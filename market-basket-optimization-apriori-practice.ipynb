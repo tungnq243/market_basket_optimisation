{
 "cells": [
  {
   "cell_type": "markdown",
   "id": "equal-young",
   "metadata": {
    "id": "1fziHl7Ar94J",
    "papermill": {
     "duration": 0.023075,
     "end_time": "2021-07-07T19:32:19.896711",
     "exception": false,
     "start_time": "2021-07-07T19:32:19.873636",
     "status": "completed"
    },
    "tags": []
   },
   "source": [
    "# Apriori"
   ]
  },
  {
   "cell_type": "markdown",
   "id": "binary-failing",
   "metadata": {
    "id": "eiNwni1xsEgT",
    "papermill": {
     "duration": 0.01961,
     "end_time": "2021-07-07T19:32:19.938593",
     "exception": false,
     "start_time": "2021-07-07T19:32:19.918983",
     "status": "completed"
    },
    "tags": []
   },
   "source": [
    "## Importing the libraries"
   ]
  },
  {
   "cell_type": "code",
   "execution_count": 1,
   "id": "needed-tennis",
   "metadata": {
    "execution": {
     "iopub.execute_input": "2021-07-07T19:32:19.984081Z",
     "iopub.status.busy": "2021-07-07T19:32:19.982870Z",
     "iopub.status.idle": "2021-07-07T19:32:31.339275Z",
     "shell.execute_reply": "2021-07-07T19:32:31.337996Z",
     "shell.execute_reply.started": "2021-07-07T19:20:59.680098Z"
    },
    "id": "DUF77Qr1vqyM",
    "outputId": "c4c2d702-9e4b-414c-bb3e-caa543b487f0",
    "papermill": {
     "duration": 11.379429,
     "end_time": "2021-07-07T19:32:31.339508",
     "exception": false,
     "start_time": "2021-07-07T19:32:19.960079",
     "status": "completed"
    },
    "tags": []
   },
   "outputs": [
    {
     "name": "stdout",
     "output_type": "stream",
     "text": [
      "Collecting apyori\r\n",
      "  Downloading apyori-1.1.2.tar.gz (8.6 kB)\r\n",
      "Building wheels for collected packages: apyori\r\n",
      "  Building wheel for apyori (setup.py) ... \u001b[?25l-\b \b\\\b \bdone\r\n",
      "\u001b[?25h  Created wheel for apyori: filename=apyori-1.1.2-py3-none-any.whl size=5975 sha256=2e050d3159563e35cf325fad1029d05735ecfc0ef3591450620b02682251099d\r\n",
      "  Stored in directory: /root/.cache/pip/wheels/cb/f6/e1/57973c631d27efd1a2f375bd6a83b2a616c4021f24aab84080\r\n",
      "Successfully built apyori\r\n",
      "Installing collected packages: apyori\r\n",
      "Successfully installed apyori-1.1.2\r\n"
     ]
    }
   ],
   "source": [
    " !pip install apyori\n"
   ]
  },
  {
   "cell_type": "code",
   "execution_count": 2,
   "id": "spoken-detection",
   "metadata": {
    "execution": {
     "iopub.execute_input": "2021-07-07T19:32:31.394202Z",
     "iopub.status.busy": "2021-07-07T19:32:31.393523Z",
     "iopub.status.idle": "2021-07-07T19:32:31.396041Z",
     "shell.execute_reply": "2021-07-07T19:32:31.395414Z",
     "shell.execute_reply.started": "2021-07-07T19:21:09.506940Z"
    },
    "id": "UJfitBClsJlT",
    "papermill": {
     "duration": 0.032736,
     "end_time": "2021-07-07T19:32:31.396189",
     "exception": false,
     "start_time": "2021-07-07T19:32:31.363453",
     "status": "completed"
    },
    "tags": []
   },
   "outputs": [],
   "source": [
    "import pandas as pd\n",
    "import numpy as np\n",
    "import matplotlib.pyplot as plt\n",
    "import os"
   ]
  },
  {
   "cell_type": "markdown",
   "id": "ambient-czech",
   "metadata": {
    "id": "vLt-7XUKsXBd",
    "papermill": {
     "duration": 0.02251,
     "end_time": "2021-07-07T19:32:31.442779",
     "exception": false,
     "start_time": "2021-07-07T19:32:31.420269",
     "status": "completed"
    },
    "tags": []
   },
   "source": [
    "## Data Preprocessing"
   ]
  },
  {
   "cell_type": "code",
   "execution_count": 3,
   "id": "described-effect",
   "metadata": {
    "execution": {
     "iopub.execute_input": "2021-07-07T19:32:31.494283Z",
     "iopub.status.busy": "2021-07-07T19:32:31.493602Z",
     "iopub.status.idle": "2021-07-07T19:32:31.585990Z",
     "shell.execute_reply": "2021-07-07T19:32:31.586511Z",
     "shell.execute_reply.started": "2021-07-07T19:21:09.514412Z"
    },
    "id": "J_A-UFOAsaDf",
    "papermill": {
     "duration": 0.122563,
     "end_time": "2021-07-07T19:32:31.586690",
     "exception": false,
     "start_time": "2021-07-07T19:32:31.464127",
     "status": "completed"
    },
    "tags": []
   },
   "outputs": [
    {
     "name": "stdout",
     "output_type": "stream",
     "text": [
      "/kaggle/input/market-basket-optimisationcsv/Market_Basket_Optimisation.csv\n"
     ]
    },
    {
     "data": {
      "text/html": [
       "<div>\n",
       "<style scoped>\n",
       "    .dataframe tbody tr th:only-of-type {\n",
       "        vertical-align: middle;\n",
       "    }\n",
       "\n",
       "    .dataframe tbody tr th {\n",
       "        vertical-align: top;\n",
       "    }\n",
       "\n",
       "    .dataframe thead th {\n",
       "        text-align: right;\n",
       "    }\n",
       "</style>\n",
       "<table border=\"1\" class=\"dataframe\">\n",
       "  <thead>\n",
       "    <tr style=\"text-align: right;\">\n",
       "      <th></th>\n",
       "      <th>shrimp</th>\n",
       "      <th>almonds</th>\n",
       "      <th>avocado</th>\n",
       "      <th>vegetables mix</th>\n",
       "      <th>green grapes</th>\n",
       "      <th>whole weat flour</th>\n",
       "      <th>yams</th>\n",
       "      <th>cottage cheese</th>\n",
       "      <th>energy drink</th>\n",
       "      <th>tomato juice</th>\n",
       "      <th>low fat yogurt</th>\n",
       "      <th>green tea</th>\n",
       "      <th>honey</th>\n",
       "      <th>salad</th>\n",
       "      <th>mineral water</th>\n",
       "      <th>salmon</th>\n",
       "      <th>antioxydant juice</th>\n",
       "      <th>frozen smoothie</th>\n",
       "      <th>spinach</th>\n",
       "      <th>olive oil</th>\n",
       "    </tr>\n",
       "  </thead>\n",
       "  <tbody>\n",
       "    <tr>\n",
       "      <th>0</th>\n",
       "      <td>burgers</td>\n",
       "      <td>meatballs</td>\n",
       "      <td>eggs</td>\n",
       "      <td>NaN</td>\n",
       "      <td>NaN</td>\n",
       "      <td>NaN</td>\n",
       "      <td>NaN</td>\n",
       "      <td>NaN</td>\n",
       "      <td>NaN</td>\n",
       "      <td>NaN</td>\n",
       "      <td>NaN</td>\n",
       "      <td>NaN</td>\n",
       "      <td>NaN</td>\n",
       "      <td>NaN</td>\n",
       "      <td>NaN</td>\n",
       "      <td>NaN</td>\n",
       "      <td>NaN</td>\n",
       "      <td>NaN</td>\n",
       "      <td>NaN</td>\n",
       "      <td>NaN</td>\n",
       "    </tr>\n",
       "    <tr>\n",
       "      <th>1</th>\n",
       "      <td>chutney</td>\n",
       "      <td>NaN</td>\n",
       "      <td>NaN</td>\n",
       "      <td>NaN</td>\n",
       "      <td>NaN</td>\n",
       "      <td>NaN</td>\n",
       "      <td>NaN</td>\n",
       "      <td>NaN</td>\n",
       "      <td>NaN</td>\n",
       "      <td>NaN</td>\n",
       "      <td>NaN</td>\n",
       "      <td>NaN</td>\n",
       "      <td>NaN</td>\n",
       "      <td>NaN</td>\n",
       "      <td>NaN</td>\n",
       "      <td>NaN</td>\n",
       "      <td>NaN</td>\n",
       "      <td>NaN</td>\n",
       "      <td>NaN</td>\n",
       "      <td>NaN</td>\n",
       "    </tr>\n",
       "    <tr>\n",
       "      <th>2</th>\n",
       "      <td>turkey</td>\n",
       "      <td>avocado</td>\n",
       "      <td>NaN</td>\n",
       "      <td>NaN</td>\n",
       "      <td>NaN</td>\n",
       "      <td>NaN</td>\n",
       "      <td>NaN</td>\n",
       "      <td>NaN</td>\n",
       "      <td>NaN</td>\n",
       "      <td>NaN</td>\n",
       "      <td>NaN</td>\n",
       "      <td>NaN</td>\n",
       "      <td>NaN</td>\n",
       "      <td>NaN</td>\n",
       "      <td>NaN</td>\n",
       "      <td>NaN</td>\n",
       "      <td>NaN</td>\n",
       "      <td>NaN</td>\n",
       "      <td>NaN</td>\n",
       "      <td>NaN</td>\n",
       "    </tr>\n",
       "    <tr>\n",
       "      <th>3</th>\n",
       "      <td>mineral water</td>\n",
       "      <td>milk</td>\n",
       "      <td>energy bar</td>\n",
       "      <td>whole wheat rice</td>\n",
       "      <td>green tea</td>\n",
       "      <td>NaN</td>\n",
       "      <td>NaN</td>\n",
       "      <td>NaN</td>\n",
       "      <td>NaN</td>\n",
       "      <td>NaN</td>\n",
       "      <td>NaN</td>\n",
       "      <td>NaN</td>\n",
       "      <td>NaN</td>\n",
       "      <td>NaN</td>\n",
       "      <td>NaN</td>\n",
       "      <td>NaN</td>\n",
       "      <td>NaN</td>\n",
       "      <td>NaN</td>\n",
       "      <td>NaN</td>\n",
       "      <td>NaN</td>\n",
       "    </tr>\n",
       "    <tr>\n",
       "      <th>4</th>\n",
       "      <td>low fat yogurt</td>\n",
       "      <td>NaN</td>\n",
       "      <td>NaN</td>\n",
       "      <td>NaN</td>\n",
       "      <td>NaN</td>\n",
       "      <td>NaN</td>\n",
       "      <td>NaN</td>\n",
       "      <td>NaN</td>\n",
       "      <td>NaN</td>\n",
       "      <td>NaN</td>\n",
       "      <td>NaN</td>\n",
       "      <td>NaN</td>\n",
       "      <td>NaN</td>\n",
       "      <td>NaN</td>\n",
       "      <td>NaN</td>\n",
       "      <td>NaN</td>\n",
       "      <td>NaN</td>\n",
       "      <td>NaN</td>\n",
       "      <td>NaN</td>\n",
       "      <td>NaN</td>\n",
       "    </tr>\n",
       "  </tbody>\n",
       "</table>\n",
       "</div>"
      ],
      "text/plain": [
       "           shrimp    almonds     avocado    vegetables mix green grapes  \\\n",
       "0         burgers  meatballs        eggs               NaN          NaN   \n",
       "1         chutney        NaN         NaN               NaN          NaN   \n",
       "2          turkey    avocado         NaN               NaN          NaN   \n",
       "3   mineral water       milk  energy bar  whole wheat rice    green tea   \n",
       "4  low fat yogurt        NaN         NaN               NaN          NaN   \n",
       "\n",
       "  whole weat flour yams cottage cheese energy drink tomato juice  \\\n",
       "0              NaN  NaN            NaN          NaN          NaN   \n",
       "1              NaN  NaN            NaN          NaN          NaN   \n",
       "2              NaN  NaN            NaN          NaN          NaN   \n",
       "3              NaN  NaN            NaN          NaN          NaN   \n",
       "4              NaN  NaN            NaN          NaN          NaN   \n",
       "\n",
       "  low fat yogurt green tea honey salad mineral water salmon antioxydant juice  \\\n",
       "0            NaN       NaN   NaN   NaN           NaN    NaN               NaN   \n",
       "1            NaN       NaN   NaN   NaN           NaN    NaN               NaN   \n",
       "2            NaN       NaN   NaN   NaN           NaN    NaN               NaN   \n",
       "3            NaN       NaN   NaN   NaN           NaN    NaN               NaN   \n",
       "4            NaN       NaN   NaN   NaN           NaN    NaN               NaN   \n",
       "\n",
       "  frozen smoothie spinach  olive oil  \n",
       "0             NaN     NaN        NaN  \n",
       "1             NaN     NaN        NaN  \n",
       "2             NaN     NaN        NaN  \n",
       "3             NaN     NaN        NaN  \n",
       "4             NaN     NaN        NaN  "
      ]
     },
     "execution_count": 3,
     "metadata": {},
     "output_type": "execute_result"
    }
   ],
   "source": [
    "for dirname, _, filenames in os.walk('/kaggle/input'):\n",
    "    for filename in filenames:\n",
    "        print(os.path.join(dirname, filename))\n",
    "        \n",
    "data=pd.read_csv('/kaggle/input/market-basket-optimisationcsv/Market_Basket_Optimisation.csv')\n",
    "\n",
    "data.head(5)"
   ]
  },
  {
   "cell_type": "code",
   "execution_count": 4,
   "id": "reflected-anthony",
   "metadata": {
    "execution": {
     "iopub.execute_input": "2021-07-07T19:32:31.638754Z",
     "iopub.status.busy": "2021-07-07T19:32:31.637950Z",
     "iopub.status.idle": "2021-07-07T19:32:31.645491Z",
     "shell.execute_reply": "2021-07-07T19:32:31.644826Z",
     "shell.execute_reply.started": "2021-07-07T19:25:31.064233Z"
    },
    "papermill": {
     "duration": 0.034982,
     "end_time": "2021-07-07T19:32:31.645641",
     "exception": false,
     "start_time": "2021-07-07T19:32:31.610659",
     "status": "completed"
    },
    "tags": []
   },
   "outputs": [
    {
     "data": {
      "text/plain": [
       "7500"
      ]
     },
     "execution_count": 4,
     "metadata": {},
     "output_type": "execute_result"
    }
   ],
   "source": [
    "len(data)"
   ]
  },
  {
   "cell_type": "code",
   "execution_count": 5,
   "id": "specialized-darkness",
   "metadata": {
    "execution": {
     "iopub.execute_input": "2021-07-07T19:32:31.709000Z",
     "iopub.status.busy": "2021-07-07T19:32:31.701525Z",
     "iopub.status.idle": "2021-07-07T19:37:11.168655Z",
     "shell.execute_reply": "2021-07-07T19:37:11.167930Z",
     "shell.execute_reply.started": "2021-07-07T19:25:34.591504Z"
    },
    "papermill": {
     "duration": 279.499519,
     "end_time": "2021-07-07T19:37:11.168825",
     "exception": false,
     "start_time": "2021-07-07T19:32:31.669306",
     "status": "completed"
    },
    "tags": []
   },
   "outputs": [],
   "source": [
    "## We need a list of transactions\n",
    "transactions=[]\n",
    "for i in range(0,7500): ## rows\n",
    "    transactions.append([str(data.values[i,j]) for j in range (0,20) ])# Columns \n",
    "## must be strings"
   ]
  },
  {
   "cell_type": "code",
   "execution_count": null,
   "id": "enormous-incentive",
   "metadata": {
    "papermill": {
     "duration": 0.023064,
     "end_time": "2021-07-07T19:37:11.215578",
     "exception": false,
     "start_time": "2021-07-07T19:37:11.192514",
     "status": "completed"
    },
    "tags": []
   },
   "outputs": [],
   "source": []
  },
  {
   "cell_type": "code",
   "execution_count": 6,
   "id": "helpful-phrase",
   "metadata": {
    "execution": {
     "iopub.execute_input": "2021-07-07T19:37:11.267232Z",
     "iopub.status.busy": "2021-07-07T19:37:11.266322Z",
     "iopub.status.idle": "2021-07-07T19:37:11.269386Z",
     "shell.execute_reply": "2021-07-07T19:37:11.268752Z"
    },
    "papermill": {
     "duration": 0.031575,
     "end_time": "2021-07-07T19:37:11.269528",
     "exception": false,
     "start_time": "2021-07-07T19:37:11.237953",
     "status": "completed"
    },
    "tags": []
   },
   "outputs": [],
   "source": [
    "#transactions"
   ]
  },
  {
   "cell_type": "code",
   "execution_count": null,
   "id": "suspected-selection",
   "metadata": {
    "papermill": {
     "duration": 0.022687,
     "end_time": "2021-07-07T19:37:11.315515",
     "exception": false,
     "start_time": "2021-07-07T19:37:11.292828",
     "status": "completed"
    },
    "tags": []
   },
   "outputs": [],
   "source": [
    " "
   ]
  },
  {
   "cell_type": "markdown",
   "id": "mechanical-strip",
   "metadata": {
    "id": "1wYZdBd5sea_",
    "papermill": {
     "duration": 0.025132,
     "end_time": "2021-07-07T19:37:11.365388",
     "exception": false,
     "start_time": "2021-07-07T19:37:11.340256",
     "status": "completed"
    },
    "tags": []
   },
   "source": [
    "## Training the Apriori model on the dataset"
   ]
  },
  {
   "cell_type": "code",
   "execution_count": 7,
   "id": "spread-stone",
   "metadata": {
    "execution": {
     "iopub.execute_input": "2021-07-07T19:37:11.417853Z",
     "iopub.status.busy": "2021-07-07T19:37:11.417125Z",
     "iopub.status.idle": "2021-07-07T19:37:11.423748Z",
     "shell.execute_reply": "2021-07-07T19:37:11.422995Z",
     "shell.execute_reply.started": "2021-07-07T19:31:31.438407Z"
    },
    "id": "YzIk4vXZsj5i",
    "papermill": {
     "duration": 0.034846,
     "end_time": "2021-07-07T19:37:11.423905",
     "exception": false,
     "start_time": "2021-07-07T19:37:11.389059",
     "status": "completed"
    },
    "tags": []
   },
   "outputs": [],
   "source": [
    "from apyori import apriori\n",
    "\n",
    "rules=apriori(transactions=transactions,\n",
    "              min_support=0.003,## (min 3 times per day  * 7 days)/7501 \n",
    "              min_confidence=0.2,## you can try different values depending on the business requirements\n",
    "              min_lift = 3,  ## relevance of the rule... good lift is at least 3. Rules below 3 are not relevant--based on the experience\n",
    "              min_length=2, ## 2 products to have at the end, A and B\n",
    "              max_length=2) "
   ]
  },
  {
   "cell_type": "code",
   "execution_count": 8,
   "id": "middle-beatles",
   "metadata": {
    "execution": {
     "iopub.execute_input": "2021-07-07T19:37:11.476715Z",
     "iopub.status.busy": "2021-07-07T19:37:11.475535Z",
     "iopub.status.idle": "2021-07-07T19:37:11.481320Z",
     "shell.execute_reply": "2021-07-07T19:37:11.480663Z",
     "shell.execute_reply.started": "2021-07-07T19:31:34.396453Z"
    },
    "papermill": {
     "duration": 0.034179,
     "end_time": "2021-07-07T19:37:11.481487",
     "exception": false,
     "start_time": "2021-07-07T19:37:11.447308",
     "status": "completed"
    },
    "tags": []
   },
   "outputs": [
    {
     "data": {
      "text/plain": [
       "<generator object apriori at 0x7f6a3cc0ff50>"
      ]
     },
     "execution_count": 8,
     "metadata": {},
     "output_type": "execute_result"
    }
   ],
   "source": [
    "rules"
   ]
  },
  {
   "cell_type": "code",
   "execution_count": null,
   "id": "emerging-hacker",
   "metadata": {
    "papermill": {
     "duration": 0.022907,
     "end_time": "2021-07-07T19:37:11.527293",
     "exception": false,
     "start_time": "2021-07-07T19:37:11.504386",
     "status": "completed"
    },
    "tags": []
   },
   "outputs": [],
   "source": [
    " "
   ]
  },
  {
   "cell_type": "markdown",
   "id": "alert-holocaust",
   "metadata": {
    "id": "b176YNwWspiO",
    "papermill": {
     "duration": 0.022993,
     "end_time": "2021-07-07T19:37:11.573659",
     "exception": false,
     "start_time": "2021-07-07T19:37:11.550666",
     "status": "completed"
    },
    "tags": []
   },
   "source": [
    "## Visualising the results"
   ]
  },
  {
   "cell_type": "markdown",
   "id": "surprising-international",
   "metadata": {
    "id": "iO6bF_dImT-E",
    "papermill": {
     "duration": 0.023084,
     "end_time": "2021-07-07T19:37:11.620127",
     "exception": false,
     "start_time": "2021-07-07T19:37:11.597043",
     "status": "completed"
    },
    "tags": []
   },
   "source": [
    "### Displaying the first results coming directly from the output of the apriori function"
   ]
  },
  {
   "cell_type": "code",
   "execution_count": 9,
   "id": "original-portland",
   "metadata": {
    "execution": {
     "iopub.execute_input": "2021-07-07T19:37:11.702771Z",
     "iopub.status.busy": "2021-07-07T19:37:11.697196Z",
     "iopub.status.idle": "2021-07-07T19:37:11.814992Z",
     "shell.execute_reply": "2021-07-07T19:37:11.814174Z",
     "shell.execute_reply.started": "2021-07-07T19:31:37.234495Z"
    },
    "id": "kvF-sLc6ifhd",
    "papermill": {
     "duration": 0.16899,
     "end_time": "2021-07-07T19:37:11.815156",
     "exception": false,
     "start_time": "2021-07-07T19:37:11.646166",
     "status": "completed"
    },
    "tags": []
   },
   "outputs": [],
   "source": [
    "results=list(rules) ## we put rules into a list\n",
    "#results"
   ]
  },
  {
   "cell_type": "code",
   "execution_count": 10,
   "id": "overall-mining",
   "metadata": {
    "execution": {
     "iopub.execute_input": "2021-07-07T19:37:11.869743Z",
     "iopub.status.busy": "2021-07-07T19:37:11.868112Z",
     "iopub.status.idle": "2021-07-07T19:37:11.873094Z",
     "shell.execute_reply": "2021-07-07T19:37:11.872434Z",
     "shell.execute_reply.started": "2021-07-07T19:31:40.434183Z"
    },
    "id": "eAD8Co4_l9IE",
    "outputId": "d8523472-b36f-4020-c6fc-01ee3a0d8a86",
    "papermill": {
     "duration": 0.034057,
     "end_time": "2021-07-07T19:37:11.873235",
     "exception": false,
     "start_time": "2021-07-07T19:37:11.839178",
     "status": "completed"
    },
    "tags": []
   },
   "outputs": [
    {
     "data": {
      "text/plain": [
       "RelationRecord(items=frozenset({'ground beef', 'tomato sauce'}), support=0.005333333333333333, ordered_statistics=[OrderedStatistic(items_base=frozenset({'tomato sauce'}), items_add=frozenset({'ground beef'}), confidence=0.37735849056603776, lift=3.840147461662528)])"
      ]
     },
     "execution_count": 10,
     "metadata": {},
     "output_type": "execute_result"
    }
   ],
   "source": [
    "results[5]"
   ]
  },
  {
   "cell_type": "code",
   "execution_count": 11,
   "id": "martial-replacement",
   "metadata": {
    "execution": {
     "iopub.execute_input": "2021-07-07T19:37:11.929552Z",
     "iopub.status.busy": "2021-07-07T19:37:11.928223Z",
     "iopub.status.idle": "2021-07-07T19:37:11.932021Z",
     "shell.execute_reply": "2021-07-07T19:37:11.931264Z"
    },
    "papermill": {
     "duration": 0.033672,
     "end_time": "2021-07-07T19:37:11.932186",
     "exception": false,
     "start_time": "2021-07-07T19:37:11.898514",
     "status": "completed"
    },
    "tags": []
   },
   "outputs": [],
   "source": [
    "## 0.004% that french fries and almonds will appear in the basket\n",
    "## o.21% that french fries will appear at the basket if almonds are also bought"
   ]
  },
  {
   "cell_type": "markdown",
   "id": "basic-breach",
   "metadata": {
    "id": "MFkQP-fcjDBC",
    "papermill": {
     "duration": 0.025782,
     "end_time": "2021-07-07T19:37:11.984837",
     "exception": false,
     "start_time": "2021-07-07T19:37:11.959055",
     "status": "completed"
    },
    "tags": []
   },
   "source": [
    "### Putting the results well organised into a Pandas DataFrame"
   ]
  },
  {
   "cell_type": "code",
   "execution_count": 12,
   "id": "charged-address",
   "metadata": {
    "execution": {
     "iopub.execute_input": "2021-07-07T19:37:12.047521Z",
     "iopub.status.busy": "2021-07-07T19:37:12.046459Z",
     "iopub.status.idle": "2021-07-07T19:37:12.049573Z",
     "shell.execute_reply": "2021-07-07T19:37:12.048923Z",
     "shell.execute_reply.started": "2021-07-07T19:31:43.725767Z"
    },
    "id": "gyq7Poi0mMUe",
    "papermill": {
     "duration": 0.040026,
     "end_time": "2021-07-07T19:37:12.049720",
     "exception": false,
     "start_time": "2021-07-07T19:37:12.009694",
     "status": "completed"
    },
    "tags": []
   },
   "outputs": [],
   "source": [
    "def inspect(results):\n",
    "    lhs         = [tuple(result[2][0][0])[0] for result in results]\n",
    "    rhs         = [tuple(result[2][0][1])[0] for result in results]\n",
    "    supports    = [result[1] for result in results]\n",
    "    confidences = [result[2][0][2] for result in results]\n",
    "    lifts       = [result[2][0][3] for result in results]\n",
    "    return list(zip(lhs, rhs, supports, confidences, lifts))\n",
    "\n",
    "\n",
    "    \n",
    "resultsinDataFrame = pd.DataFrame(inspect(results), columns = ['Left Hand Side', 'Right Hand Side', 'Support', 'Confidence', 'Lift'])"
   ]
  },
  {
   "cell_type": "markdown",
   "id": "local-spice",
   "metadata": {
    "id": "Pfn-G1eAjjLz",
    "papermill": {
     "duration": 0.023955,
     "end_time": "2021-07-07T19:37:12.096899",
     "exception": false,
     "start_time": "2021-07-07T19:37:12.072944",
     "status": "completed"
    },
    "tags": []
   },
   "source": [
    "### Displaying the results non sorted"
   ]
  },
  {
   "cell_type": "code",
   "execution_count": 13,
   "id": "actual-burner",
   "metadata": {
    "execution": {
     "iopub.execute_input": "2021-07-07T19:37:12.164229Z",
     "iopub.status.busy": "2021-07-07T19:37:12.157310Z",
     "iopub.status.idle": "2021-07-07T19:37:12.170296Z",
     "shell.execute_reply": "2021-07-07T19:37:12.169708Z",
     "shell.execute_reply.started": "2021-07-07T19:31:49.192994Z"
    },
    "id": "CmDCcs_6ip9V",
    "outputId": "2170915c-075e-455e-b65b-6ae8d1a62166",
    "papermill": {
     "duration": 0.049311,
     "end_time": "2021-07-07T19:37:12.170481",
     "exception": false,
     "start_time": "2021-07-07T19:37:12.121170",
     "status": "completed"
    },
    "tags": []
   },
   "outputs": [
    {
     "data": {
      "text/html": [
       "<div>\n",
       "<style scoped>\n",
       "    .dataframe tbody tr th:only-of-type {\n",
       "        vertical-align: middle;\n",
       "    }\n",
       "\n",
       "    .dataframe tbody tr th {\n",
       "        vertical-align: top;\n",
       "    }\n",
       "\n",
       "    .dataframe thead th {\n",
       "        text-align: right;\n",
       "    }\n",
       "</style>\n",
       "<table border=\"1\" class=\"dataframe\">\n",
       "  <thead>\n",
       "    <tr style=\"text-align: right;\">\n",
       "      <th></th>\n",
       "      <th>Left Hand Side</th>\n",
       "      <th>Right Hand Side</th>\n",
       "      <th>Support</th>\n",
       "      <th>Confidence</th>\n",
       "      <th>Lift</th>\n",
       "    </tr>\n",
       "  </thead>\n",
       "  <tbody>\n",
       "    <tr>\n",
       "      <th>0</th>\n",
       "      <td>light cream</td>\n",
       "      <td>chicken</td>\n",
       "      <td>0.004533</td>\n",
       "      <td>0.290598</td>\n",
       "      <td>4.843305</td>\n",
       "    </tr>\n",
       "    <tr>\n",
       "      <th>1</th>\n",
       "      <td>mushroom cream sauce</td>\n",
       "      <td>escalope</td>\n",
       "      <td>0.005733</td>\n",
       "      <td>0.300699</td>\n",
       "      <td>3.790327</td>\n",
       "    </tr>\n",
       "    <tr>\n",
       "      <th>2</th>\n",
       "      <td>pasta</td>\n",
       "      <td>escalope</td>\n",
       "      <td>0.005867</td>\n",
       "      <td>0.372881</td>\n",
       "      <td>4.700185</td>\n",
       "    </tr>\n",
       "    <tr>\n",
       "      <th>3</th>\n",
       "      <td>fromage blanc</td>\n",
       "      <td>honey</td>\n",
       "      <td>0.003333</td>\n",
       "      <td>0.245098</td>\n",
       "      <td>5.178128</td>\n",
       "    </tr>\n",
       "    <tr>\n",
       "      <th>4</th>\n",
       "      <td>herb &amp; pepper</td>\n",
       "      <td>ground beef</td>\n",
       "      <td>0.016000</td>\n",
       "      <td>0.323450</td>\n",
       "      <td>3.291555</td>\n",
       "    </tr>\n",
       "    <tr>\n",
       "      <th>5</th>\n",
       "      <td>tomato sauce</td>\n",
       "      <td>ground beef</td>\n",
       "      <td>0.005333</td>\n",
       "      <td>0.377358</td>\n",
       "      <td>3.840147</td>\n",
       "    </tr>\n",
       "    <tr>\n",
       "      <th>6</th>\n",
       "      <td>light cream</td>\n",
       "      <td>olive oil</td>\n",
       "      <td>0.003200</td>\n",
       "      <td>0.205128</td>\n",
       "      <td>3.120612</td>\n",
       "    </tr>\n",
       "    <tr>\n",
       "      <th>7</th>\n",
       "      <td>whole wheat pasta</td>\n",
       "      <td>olive oil</td>\n",
       "      <td>0.008000</td>\n",
       "      <td>0.271493</td>\n",
       "      <td>4.130221</td>\n",
       "    </tr>\n",
       "    <tr>\n",
       "      <th>8</th>\n",
       "      <td>pasta</td>\n",
       "      <td>shrimp</td>\n",
       "      <td>0.005067</td>\n",
       "      <td>0.322034</td>\n",
       "      <td>4.514494</td>\n",
       "    </tr>\n",
       "  </tbody>\n",
       "</table>\n",
       "</div>"
      ],
      "text/plain": [
       "         Left Hand Side Right Hand Side   Support  Confidence      Lift\n",
       "0           light cream         chicken  0.004533    0.290598  4.843305\n",
       "1  mushroom cream sauce        escalope  0.005733    0.300699  3.790327\n",
       "2                 pasta        escalope  0.005867    0.372881  4.700185\n",
       "3         fromage blanc           honey  0.003333    0.245098  5.178128\n",
       "4         herb & pepper     ground beef  0.016000    0.323450  3.291555\n",
       "5          tomato sauce     ground beef  0.005333    0.377358  3.840147\n",
       "6           light cream       olive oil  0.003200    0.205128  3.120612\n",
       "7     whole wheat pasta       olive oil  0.008000    0.271493  4.130221\n",
       "8                 pasta          shrimp  0.005067    0.322034  4.514494"
      ]
     },
     "execution_count": 13,
     "metadata": {},
     "output_type": "execute_result"
    }
   ],
   "source": [
    "resultsinDataFrame"
   ]
  },
  {
   "cell_type": "markdown",
   "id": "frank-magnet",
   "metadata": {
    "id": "IjrrlYW4jpTR",
    "papermill": {
     "duration": 0.023648,
     "end_time": "2021-07-07T19:37:12.219314",
     "exception": false,
     "start_time": "2021-07-07T19:37:12.195666",
     "status": "completed"
    },
    "tags": []
   },
   "source": [
    "### Displaying the results sorted by descending lifts"
   ]
  },
  {
   "cell_type": "code",
   "execution_count": 14,
   "id": "rolled-sister",
   "metadata": {
    "execution": {
     "iopub.execute_input": "2021-07-07T19:37:12.291579Z",
     "iopub.status.busy": "2021-07-07T19:37:12.280481Z",
     "iopub.status.idle": "2021-07-07T19:37:12.296930Z",
     "shell.execute_reply": "2021-07-07T19:37:12.296141Z",
     "shell.execute_reply.started": "2021-07-07T19:31:52.195142Z"
    },
    "id": "nI7DJXng-nxQ",
    "outputId": "aac84e87-eb2a-4428-cf55-1c16d23ea3ed",
    "papermill": {
     "duration": 0.049758,
     "end_time": "2021-07-07T19:37:12.297082",
     "exception": false,
     "start_time": "2021-07-07T19:37:12.247324",
     "status": "completed"
    },
    "tags": []
   },
   "outputs": [
    {
     "data": {
      "text/html": [
       "<div>\n",
       "<style scoped>\n",
       "    .dataframe tbody tr th:only-of-type {\n",
       "        vertical-align: middle;\n",
       "    }\n",
       "\n",
       "    .dataframe tbody tr th {\n",
       "        vertical-align: top;\n",
       "    }\n",
       "\n",
       "    .dataframe thead th {\n",
       "        text-align: right;\n",
       "    }\n",
       "</style>\n",
       "<table border=\"1\" class=\"dataframe\">\n",
       "  <thead>\n",
       "    <tr style=\"text-align: right;\">\n",
       "      <th></th>\n",
       "      <th>Left Hand Side</th>\n",
       "      <th>Right Hand Side</th>\n",
       "      <th>Support</th>\n",
       "      <th>Confidence</th>\n",
       "      <th>Lift</th>\n",
       "    </tr>\n",
       "  </thead>\n",
       "  <tbody>\n",
       "    <tr>\n",
       "      <th>3</th>\n",
       "      <td>fromage blanc</td>\n",
       "      <td>honey</td>\n",
       "      <td>0.003333</td>\n",
       "      <td>0.245098</td>\n",
       "      <td>5.178128</td>\n",
       "    </tr>\n",
       "    <tr>\n",
       "      <th>0</th>\n",
       "      <td>light cream</td>\n",
       "      <td>chicken</td>\n",
       "      <td>0.004533</td>\n",
       "      <td>0.290598</td>\n",
       "      <td>4.843305</td>\n",
       "    </tr>\n",
       "    <tr>\n",
       "      <th>2</th>\n",
       "      <td>pasta</td>\n",
       "      <td>escalope</td>\n",
       "      <td>0.005867</td>\n",
       "      <td>0.372881</td>\n",
       "      <td>4.700185</td>\n",
       "    </tr>\n",
       "    <tr>\n",
       "      <th>8</th>\n",
       "      <td>pasta</td>\n",
       "      <td>shrimp</td>\n",
       "      <td>0.005067</td>\n",
       "      <td>0.322034</td>\n",
       "      <td>4.514494</td>\n",
       "    </tr>\n",
       "    <tr>\n",
       "      <th>7</th>\n",
       "      <td>whole wheat pasta</td>\n",
       "      <td>olive oil</td>\n",
       "      <td>0.008000</td>\n",
       "      <td>0.271493</td>\n",
       "      <td>4.130221</td>\n",
       "    </tr>\n",
       "    <tr>\n",
       "      <th>5</th>\n",
       "      <td>tomato sauce</td>\n",
       "      <td>ground beef</td>\n",
       "      <td>0.005333</td>\n",
       "      <td>0.377358</td>\n",
       "      <td>3.840147</td>\n",
       "    </tr>\n",
       "    <tr>\n",
       "      <th>1</th>\n",
       "      <td>mushroom cream sauce</td>\n",
       "      <td>escalope</td>\n",
       "      <td>0.005733</td>\n",
       "      <td>0.300699</td>\n",
       "      <td>3.790327</td>\n",
       "    </tr>\n",
       "    <tr>\n",
       "      <th>4</th>\n",
       "      <td>herb &amp; pepper</td>\n",
       "      <td>ground beef</td>\n",
       "      <td>0.016000</td>\n",
       "      <td>0.323450</td>\n",
       "      <td>3.291555</td>\n",
       "    </tr>\n",
       "    <tr>\n",
       "      <th>6</th>\n",
       "      <td>light cream</td>\n",
       "      <td>olive oil</td>\n",
       "      <td>0.003200</td>\n",
       "      <td>0.205128</td>\n",
       "      <td>3.120612</td>\n",
       "    </tr>\n",
       "  </tbody>\n",
       "</table>\n",
       "</div>"
      ],
      "text/plain": [
       "         Left Hand Side Right Hand Side   Support  Confidence      Lift\n",
       "3         fromage blanc           honey  0.003333    0.245098  5.178128\n",
       "0           light cream         chicken  0.004533    0.290598  4.843305\n",
       "2                 pasta        escalope  0.005867    0.372881  4.700185\n",
       "8                 pasta          shrimp  0.005067    0.322034  4.514494\n",
       "7     whole wheat pasta       olive oil  0.008000    0.271493  4.130221\n",
       "5          tomato sauce     ground beef  0.005333    0.377358  3.840147\n",
       "1  mushroom cream sauce        escalope  0.005733    0.300699  3.790327\n",
       "4         herb & pepper     ground beef  0.016000    0.323450  3.291555\n",
       "6           light cream       olive oil  0.003200    0.205128  3.120612"
      ]
     },
     "execution_count": 14,
     "metadata": {},
     "output_type": "execute_result"
    }
   ],
   "source": [
    "resultsinDataFrame.nlargest(n=10, columns=\"Lift\") ## 10 rows"
   ]
  },
  {
   "cell_type": "code",
   "execution_count": null,
   "id": "operational-exhibit",
   "metadata": {
    "papermill": {
     "duration": 0.024037,
     "end_time": "2021-07-07T19:37:12.345877",
     "exception": false,
     "start_time": "2021-07-07T19:37:12.321840",
     "status": "completed"
    },
    "tags": []
   },
   "outputs": [],
   "source": []
  }
 ],
 "metadata": {
  "kernelspec": {
   "display_name": "Python 3",
   "language": "python",
   "name": "python3"
  },
  "language_info": {
   "codemirror_mode": {
    "name": "ipython",
    "version": 3
   },
   "file_extension": ".py",
   "mimetype": "text/x-python",
   "name": "python",
   "nbconvert_exporter": "python",
   "pygments_lexer": "ipython3",
   "version": "3.7.9"
  },
  "papermill": {
   "default_parameters": {},
   "duration": 301.027796,
   "end_time": "2021-07-07T19:37:14.033513",
   "environment_variables": {},
   "exception": null,
   "input_path": "__notebook__.ipynb",
   "output_path": "__notebook__.ipynb",
   "parameters": {},
   "start_time": "2021-07-07T19:32:13.005717",
   "version": "2.3.2"
  }
 },
 "nbformat": 4,
 "nbformat_minor": 5
}
